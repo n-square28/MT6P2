{
 "cells": [
  {
   "cell_type": "code",
   "execution_count": 16,
   "id": "compound-vermont",
   "metadata": {},
   "outputs": [
    {
     "name": "stdout",
     "output_type": "stream",
     "text": [
      "((s**3 + 3*s**2 + 6*s + 6)/s**4, 0, True)\n"
     ]
    }
   ],
   "source": [
    "from sympy import laplace_transform, sin, exp,cos\n",
    "from sympy.abc import t,s\n",
    "print(laplace_transform((1+t**3+3*t**2+3*t),t,s))"
   ]
  },
  {
   "cell_type": "code",
   "execution_count": 17,
   "id": "current-spectacular",
   "metadata": {},
   "outputs": [
    {
     "name": "stdout",
     "output_type": "stream",
     "text": [
      "((s**2 + 18)/(s*(s**2 + 36)), 0, True)\n"
     ]
    }
   ],
   "source": [
    "print(laplace_transform(cos(3*t)**2,t,s))"
   ]
  },
  {
   "cell_type": "code",
   "execution_count": 18,
   "id": "familiar-place",
   "metadata": {},
   "outputs": [
    {
     "name": "stdout",
     "output_type": "stream",
     "text": [
      "(12*s/((s**2 + 4)*(s**2 + 16)), 0, True)\n"
     ]
    }
   ],
   "source": [
    "print(laplace_transform(2*sin(t)*sin(3*t),t,s))"
   ]
  },
  {
   "cell_type": "code",
   "execution_count": 19,
   "id": "vertical-darkness",
   "metadata": {},
   "outputs": [
    {
     "name": "stdout",
     "output_type": "stream",
     "text": [
      "(4/((s + 3)**2 + 16), -3, True)\n"
     ]
    }
   ],
   "source": [
    "print(laplace_transform(exp(-3*t)*sin(4*t),t,s))"
   ]
  },
  {
   "cell_type": "code",
   "execution_count": null,
   "id": "brown-statement",
   "metadata": {},
   "outputs": [],
   "source": []
  }
 ],
 "metadata": {
  "kernelspec": {
   "display_name": "Python 3",
   "language": "python",
   "name": "python3"
  },
  "language_info": {
   "codemirror_mode": {
    "name": "ipython",
    "version": 3
   },
   "file_extension": ".py",
   "mimetype": "text/x-python",
   "name": "python",
   "nbconvert_exporter": "python",
   "pygments_lexer": "ipython3",
   "version": "3.9.2"
  }
 },
 "nbformat": 4,
 "nbformat_minor": 5
}
