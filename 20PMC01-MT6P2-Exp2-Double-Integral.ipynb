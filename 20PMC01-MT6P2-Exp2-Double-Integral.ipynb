{
 "cells": [
  {
   "cell_type": "code",
   "execution_count": 20,
   "id": "vital-intensity",
   "metadata": {},
   "outputs": [
    {
     "name": "stdout",
     "output_type": "stream",
     "text": [
      "3\n",
      "pi/24\n",
      "31/15\n",
      "9*pi/4\n",
      "-7/60\n"
     ]
    }
   ],
   "source": [
    "from sympy.abc import x,y\n",
    "from sympy import integrate, cos, sin, pi, sqrt\n",
    "\n",
    "def doub_intg(integrand,x1,x2,y1,y2,wrt):\n",
    "    if wrt == \"x\":\n",
    "        I1 = integrate(integrand,(x,x1,x2),(y,y1,y2))\n",
    "        print(I1)\n",
    "    elif wrt == \"y\":\n",
    "        I1 = integrate(integrand,(y,y1,y2),(x,x1,x2))\n",
    "        print(I1)\n",
    "doub_intg(x+y,0,1,0,2,\"y\")\n",
    "doub_intg(cos(x)*sin(x),0,pi/6,0,pi/3,\"x\")\n",
    "doub_intg(x*y**2,1,2,0,x,\"y\")\n",
    "doub_intg(1,0,3,0,sqrt(9-x**2),\"y\")\n",
    "doub_intg(x**2+y,0,1,x,x**2,\"y\")"
   ]
  },
  {
   "cell_type": "code",
   "execution_count": 16,
   "id": "after-infection",
   "metadata": {},
   "outputs": [
    {
     "name": "stdout",
     "output_type": "stream",
     "text": [
      "3.0*x*hyper((-0.5, 1/2), (3/2,), x**2*exp_polar(2*I*pi)/9)\n"
     ]
    }
   ],
   "source": [
    "I = integrate((9-x**2)**0.5)\n",
    "print(I)"
   ]
  },
  {
   "cell_type": "code",
   "execution_count": null,
   "id": "aware-superior",
   "metadata": {},
   "outputs": [],
   "source": []
  }
 ],
 "metadata": {
  "kernelspec": {
   "display_name": "Python 3",
   "language": "python",
   "name": "python3"
  },
  "language_info": {
   "codemirror_mode": {
    "name": "ipython",
    "version": 3
   },
   "file_extension": ".py",
   "mimetype": "text/x-python",
   "name": "python",
   "nbconvert_exporter": "python",
   "pygments_lexer": "ipython3",
   "version": "3.9.2"
  }
 },
 "nbformat": 4,
 "nbformat_minor": 5
}
