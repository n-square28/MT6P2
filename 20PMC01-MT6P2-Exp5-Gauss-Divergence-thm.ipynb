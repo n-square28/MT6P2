{
 "cells": [
  {
   "cell_type": "code",
   "execution_count": 14,
   "id": "angry-fruit",
   "metadata": {},
   "outputs": [
    {
     "name": "stdout",
     "output_type": "stream",
     "text": [
      "LHS is a*b*c*(a + b + c)\n",
      "RHS is a*b*c*(a + b + c)\n",
      "Gauss Divergence Thm is verified\n"
     ]
    }
   ],
   "source": [
    "from sympy import integrate, diff, symbols,simplify\n",
    "x,y,z,dx,dy,dz,a,b,c = symbols(\"x,y,z,dx,dy,dz,a,b,c\")\n",
    "\n",
    "F = [x**2-y*z,y**2-x*z,z**2-x*y]\n",
    "#Flux Part\n",
    "I1 = integrate((F[0]*1).subs(x,a),(z,0,c),(y,0,b))\n",
    "I2 = integrate((F[0]*(-1)).subs(x,0),(z,0,c),(y,0,b))\n",
    "I3 = integrate((F[1]*1).subs(y,b),(x,0,a),(z,0,c))\n",
    "I4 = integrate((F[1]*(-1)).subs(y,0),(x,0,a),(z,0,c))\n",
    "I5 = integrate((F[2]*1).subs(z,c),(x,0,a),(y,0,b))\n",
    "I6 = integrate((F[2]*(-1)).subs(z,0),(x,0,a),(y,0,b))\n",
    "LHS = simplify(I1+I2+I3+I4+I5+I6)\n",
    "print(f\"LHS is {LHS}\")\n",
    "\n",
    "#Divergence Part\n",
    "DivF = [diff(F[0],x),diff(F[1],y),diff(F[2],z)]\n",
    "RHS = simplify(integrate((DivF[0]+DivF[1]+DivF[2]),(x,0,a),(y,0,b),(z,0,c)))\n",
    "print(f\"RHS is {RHS}\")\n",
    "\n",
    "#Gauss Divergence\n",
    "if LHS == RHS:\n",
    "    print(\"Gauss Divergence Thm is verified\")\n",
    "else:\n",
    "    print(\"Please don't break the universe\")"
   ]
  },
  {
   "cell_type": "code",
   "execution_count": null,
   "id": "prostate-burlington",
   "metadata": {},
   "outputs": [],
   "source": [
    "\n",
    "\n",
    "\n",
    "\n",
    "\n",
    "\n",
    "\n",
    "\n",
    "\n",
    "\n",
    "\n",
    "\n",
    "\n",
    "\n",
    "."
   ]
  }
 ],
 "metadata": {
  "kernelspec": {
   "display_name": "Python 3",
   "language": "python",
   "name": "python3"
  },
  "language_info": {
   "codemirror_mode": {
    "name": "ipython",
    "version": 3
   },
   "file_extension": ".py",
   "mimetype": "text/x-python",
   "name": "python",
   "nbconvert_exporter": "python",
   "pygments_lexer": "ipython3",
   "version": "3.9.2"
  }
 },
 "nbformat": 4,
 "nbformat_minor": 5
}
