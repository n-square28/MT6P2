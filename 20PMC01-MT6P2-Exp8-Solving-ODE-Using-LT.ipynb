{
 "cells": [
  {
   "cell_type": "code",
   "execution_count": 28,
   "id": "skilled-underground",
   "metadata": {},
   "outputs": [
    {
     "name": "stdout",
     "output_type": "stream",
     "text": [
      "   t        -2⋅t\n",
      "3⋅ℯ  - 2 + ℯ    \n",
      " 4⋅t    t    \n",
      "ℯ      ℯ    1\n",
      "──── - ── + ─\n",
      " 12    3    4\n",
      "  cos(t)   cosh(2⋅t)\n",
      "- ────── + ─────────\n",
      "    5          5    \n"
     ]
    }
   ],
   "source": [
    "from sympy import *\n",
    "\n",
    "t, s = symbols(\"t s\")\n",
    "y = Function(\"y\")\n",
    "\n",
    "y1 = y(t).diff(t)\n",
    "y2 = y(t).diff(t, 2)\n",
    "y3 = y(t).diff(t, 3)\n",
    "\n",
    "def solveDiff(expr, bcs: dict):\n",
    "    \n",
    "    transform = solve(laplace_transform(expr, t, s)[0], laplace_transform(y(t), t, s))[0].subs(bcs)\n",
    "    sol = inverse_laplace_transform(transform, s, t) / Heaviside(t)\n",
    "    \n",
    "    pprint(simplify(sol))\n",
    "    \n",
    "# P1\n",
    "solveDiff(y2 + y1 - 2 * y(t) - 4, {y(0): 2, y1: 1})\n",
    "  \n",
    "# P2\n",
    "solveDiff(y2 - y1 - exp(4 * t), {y(0): 0, y1: 0})\n",
    "  \n",
    "# P3\n",
    "solveDiff(y2 - 4 * y(t) - cos(t), {y(0): 0, y1: 0})\n",
    "  "
   ]
  },
  {
   "cell_type": "code",
   "execution_count": null,
   "id": "close-lloyd",
   "metadata": {},
   "outputs": [],
   "source": []
  }
 ],
 "metadata": {
  "kernelspec": {
   "display_name": "Python 3",
   "language": "python",
   "name": "python3"
  },
  "language_info": {
   "codemirror_mode": {
    "name": "ipython",
    "version": 3
   },
   "file_extension": ".py",
   "mimetype": "text/x-python",
   "name": "python",
   "nbconvert_exporter": "python",
   "pygments_lexer": "ipython3",
   "version": "3.9.2"
  }
 },
 "nbformat": 4,
 "nbformat_minor": 5
}
