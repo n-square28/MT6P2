{
 "cells": [
  {
   "cell_type": "code",
   "execution_count": 32,
   "id": "satisfied-finnish",
   "metadata": {},
   "outputs": [],
   "source": [
    "from sympy import inverse_laplace_transform\n",
    "from sympy.abc import s,t\n",
    "from sympy import Heaviside\n",
    "\n",
    "def invL(F):\n",
    "    print(inverse_laplace_transform(F,s,t)/(Heaviside(t)))"
   ]
  },
  {
   "cell_type": "code",
   "execution_count": 43,
   "id": "federal-anniversary",
   "metadata": {},
   "outputs": [
    {
     "name": "stdout",
     "output_type": "stream",
     "text": [
      "t**2*exp(-3*t)/2\n"
     ]
    }
   ],
   "source": [
    "invL(1/(s+3)**3)"
   ]
  },
  {
   "cell_type": "code",
   "execution_count": 44,
   "id": "specialized-elimination",
   "metadata": {},
   "outputs": [
    {
     "name": "stdout",
     "output_type": "stream",
     "text": [
      "t*(-t**2 + 5*t + 3)\n"
     ]
    }
   ],
   "source": [
    "invL((3*s**2+10*s-6)/(s**4))"
   ]
  },
  {
   "cell_type": "code",
   "execution_count": 45,
   "id": "representative-turkey",
   "metadata": {},
   "outputs": [
    {
     "name": "stdout",
     "output_type": "stream",
     "text": [
      "t**3*(3*t + 4)*exp(3*t)/24\n"
     ]
    }
   ],
   "source": [
    "invL((s)/((s-3)**5))"
   ]
  },
  {
   "cell_type": "code",
   "execution_count": 46,
   "id": "varying-today",
   "metadata": {},
   "outputs": [
    {
     "name": "stdout",
     "output_type": "stream",
     "text": [
      "-(13*sin(2*t) - 2*cos(2*t))*exp(-2*t)/2\n"
     ]
    }
   ],
   "source": [
    "invL((s-11)/(s**2+4*s+8))"
   ]
  },
  {
   "cell_type": "code",
   "execution_count": 41,
   "id": "expanded-brown",
   "metadata": {},
   "outputs": [
    {
     "name": "stdout",
     "output_type": "stream",
     "text": [
      "(1 - 2*t)*exp(-3*t)\n"
     ]
    }
   ],
   "source": [
    "invL((s+1)/(s**2+6*s+9))"
   ]
  },
  {
   "cell_type": "code",
   "execution_count": null,
   "id": "broadband-receipt",
   "metadata": {},
   "outputs": [],
   "source": []
  },
  {
   "cell_type": "code",
   "execution_count": null,
   "id": "unique-finance",
   "metadata": {},
   "outputs": [],
   "source": []
  }
 ],
 "metadata": {
  "kernelspec": {
   "display_name": "Python 3",
   "language": "python",
   "name": "python3"
  },
  "language_info": {
   "codemirror_mode": {
    "name": "ipython",
    "version": 3
   },
   "file_extension": ".py",
   "mimetype": "text/x-python",
   "name": "python",
   "nbconvert_exporter": "python",
   "pygments_lexer": "ipython3",
   "version": "3.9.2"
  }
 },
 "nbformat": 4,
 "nbformat_minor": 5
}
