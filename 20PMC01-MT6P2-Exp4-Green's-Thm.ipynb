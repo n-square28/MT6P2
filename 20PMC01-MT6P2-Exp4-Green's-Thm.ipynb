{
 "cells": [
  {
   "cell_type": "code",
   "execution_count": 17,
   "id": "linear-express",
   "metadata": {},
   "outputs": [
    {
     "name": "stdout",
     "output_type": "stream",
     "text": [
      "LHS is =  20\n",
      "RHS is =  20\n",
      "Green's Thm is verified\n"
     ]
    }
   ],
   "source": [
    "from sympy import integrate, diff, Symbol\n",
    "\n",
    "from sympy.abc import x,y\n",
    "dx = Symbol(\"dx\")\n",
    "dy = Symbol(\"dy\")\n",
    "\n",
    "P = 3*x**2-8*y**2\n",
    "Q = 2*y*(2-3*x)\n",
    "I1 = integrate((P*dx + Q*dy).subs([(x,x),(y,0),(dx,1),(dy,0)]),(x,0,1))\n",
    "I2 = integrate((P*dx + Q*dy).subs([(x,1),(y,y),(dx,0),(dy,1)]),(y,0,2))\n",
    "I3 = integrate((P*dx + Q*dy).subs([(x,x),(y,2),(dx,1),(dy,0)]),(x,1,0))\n",
    "I4 = integrate((P*dx + Q*dy).subs([(x,0),(y,y),(dx,0),(dy,1)]),(y,2,0))\n",
    "\n",
    "LHS = I1+I2+I3+I4\n",
    "print(\"LHS is = \",LHS)\n",
    "Py = diff(P,y)\n",
    "Qx = diff(Q,x)\n",
    "\n",
    "RHS = integrate(Qx-Py,(x,0,1),(y,0,2))\n",
    "print(\"RHS is = \" , RHS)\n",
    "\n",
    "if LHS == RHS:\n",
    "    print(\"Green's Thm is verified\")\n",
    "else:\n",
    "    print(\"Please don't break the universe!!!\")\n",
    "          "
   ]
  },
  {
   "cell_type": "code",
   "execution_count": null,
   "id": "fresh-mercy",
   "metadata": {},
   "outputs": [],
   "source": []
  }
 ],
 "metadata": {
  "kernelspec": {
   "display_name": "Python 3",
   "language": "python",
   "name": "python3"
  },
  "language_info": {
   "codemirror_mode": {
    "name": "ipython",
    "version": 3
   },
   "file_extension": ".py",
   "mimetype": "text/x-python",
   "name": "python",
   "nbconvert_exporter": "python",
   "pygments_lexer": "ipython3",
   "version": "3.9.2"
  }
 },
 "nbformat": 4,
 "nbformat_minor": 5
}
