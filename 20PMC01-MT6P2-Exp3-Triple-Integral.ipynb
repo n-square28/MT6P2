{
 "cells": [
  {
   "cell_type": "code",
   "execution_count": 14,
   "id": "fabulous-receiver",
   "metadata": {},
   "outputs": [],
   "source": [
    "from sympy.abc import x,y,z\n",
    "from sympy import integrate, cos, sin, pi, sqrt,exp\n",
    "from numpy import e\n",
    "\n",
    "def triple_intg(integrand,wrt):\n",
    "    I = integrate(integrand,(wrt[0],wrt[1],wrt[2]),(wrt[3],wrt[4],wrt[5]),(wrt[6],wrt[7],wrt[8]))\n",
    "    print(I)\n"
   ]
  },
  {
   "cell_type": "code",
   "execution_count": 15,
   "id": "working-clothing",
   "metadata": {},
   "outputs": [
    {
     "name": "stdout",
     "output_type": "stream",
     "text": [
      "18\n"
     ]
    }
   ],
   "source": [
    "triple_intg(x+y+z,[z,0,3,y,0,2,x,0,1])"
   ]
  },
  {
   "cell_type": "code",
   "execution_count": 19,
   "id": "anticipated-timer",
   "metadata": {},
   "outputs": [
    {
     "name": "stdout",
     "output_type": "stream",
     "text": [
      "5.07321411177285\n"
     ]
    }
   ],
   "source": [
    "triple_intg(e**(x+y+z),[x,0,1,y,0,1,z,0,1])"
   ]
  },
  {
   "cell_type": "code",
   "execution_count": 17,
   "id": "undefined-venture",
   "metadata": {},
   "outputs": [
    {
     "name": "stdout",
     "output_type": "stream",
     "text": [
      "1/120\n"
     ]
    }
   ],
   "source": [
    "triple_intg(x*z,[z,0,y-x,y,x,1,x,0,1])"
   ]
  },
  {
   "cell_type": "code",
   "execution_count": 18,
   "id": "sweet-diesel",
   "metadata": {},
   "outputs": [
    {
     "name": "stdout",
     "output_type": "stream",
     "text": [
      "3/28\n"
     ]
    }
   ],
   "source": [
    "triple_intg(x*y,[z,0,x+y,y,x**2,sqrt(x),x,0,1])"
   ]
  },
  {
   "cell_type": "code",
   "execution_count": null,
   "id": "thermal-cursor",
   "metadata": {},
   "outputs": [],
   "source": []
  }
 ],
 "metadata": {
  "kernelspec": {
   "display_name": "Python 3",
   "language": "python",
   "name": "python3"
  },
  "language_info": {
   "codemirror_mode": {
    "name": "ipython",
    "version": 3
   },
   "file_extension": ".py",
   "mimetype": "text/x-python",
   "name": "python",
   "nbconvert_exporter": "python",
   "pygments_lexer": "ipython3",
   "version": "3.9.2"
  }
 },
 "nbformat": 4,
 "nbformat_minor": 5
}
