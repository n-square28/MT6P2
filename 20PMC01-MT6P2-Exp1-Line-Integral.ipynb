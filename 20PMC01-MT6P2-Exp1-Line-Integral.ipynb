{
 "cells": [
  {
   "cell_type": "code",
   "execution_count": 24,
   "id": "north-father",
   "metadata": {},
   "outputs": [
    {
     "name": "stdout",
     "output_type": "stream",
     "text": [
      "1/3\n"
     ]
    }
   ],
   "source": [
    "from sympy.abc import x,y,z,t\n",
    "from sympy import integrate, diff, exp, cos, sin, pi\n",
    "dx = diff(x,x)\n",
    "dy = diff(x**2,x)\n",
    "I1 = x*dy-y*dx\n",
    "I = integrate(I1.subs(y,x**2),(x,0,1))\n",
    "print(I)\n"
   ]
  },
  {
   "cell_type": "code",
   "execution_count": 25,
   "id": "suspended-proceeding",
   "metadata": {},
   "outputs": [
    {
     "name": "stdout",
     "output_type": "stream",
     "text": [
      "213/2\n"
     ]
    }
   ],
   "source": [
    "dx = diff(x,x)\n",
    "dy = diff(x**2+1,x)\n",
    "I1 = (3*x+y)*dx+(2*y-x)*dy\n",
    "I = integrate(I1.subs(y,x**2+1),(x,0,3))\n",
    "print(I)"
   ]
  },
  {
   "cell_type": "code",
   "execution_count": 26,
   "id": "starting-reservation",
   "metadata": {},
   "outputs": [
    {
     "name": "stdout",
     "output_type": "stream",
     "text": [
      "3/2\n"
     ]
    }
   ],
   "source": [
    "dx = diff(exp(t),t)\n",
    "dy = diff(exp(-t),t)\n",
    "dz = diff(t**2,t)\n",
    "I1 = x*y*dx+x**2*z*dy+x*y*z*dz\n",
    "I = integrate(I1.subs([(x,exp(t)),(y,exp(-t)),(z,t**2)]),(t,0,1))\n",
    "print(I)"
   ]
  },
  {
   "cell_type": "code",
   "execution_count": 29,
   "id": "operating-inspection",
   "metadata": {},
   "outputs": [
    {
     "name": "stdout",
     "output_type": "stream",
     "text": [
      "-48*pi\n"
     ]
    }
   ],
   "source": [
    "dx = diff(4*cos(t),t)\n",
    "dy = diff(3*sin(t),t)\n",
    "I1 = (x+2*y)*dx +(4-2*x)*dy\n",
    "I = integrate(I1.subs([(x,4*cos(t)),(y,3*sin(t))]),(t,0,2*pi))\n",
    "print(I)"
   ]
  },
  {
   "cell_type": "code",
   "execution_count": null,
   "id": "silver-liverpool",
   "metadata": {},
   "outputs": [],
   "source": []
  }
 ],
 "metadata": {
  "kernelspec": {
   "display_name": "Python 3",
   "language": "python",
   "name": "python3"
  },
  "language_info": {
   "codemirror_mode": {
    "name": "ipython",
    "version": 3
   },
   "file_extension": ".py",
   "mimetype": "text/x-python",
   "name": "python",
   "nbconvert_exporter": "python",
   "pygments_lexer": "ipython3",
   "version": "3.9.2"
  }
 },
 "nbformat": 4,
 "nbformat_minor": 5
}
